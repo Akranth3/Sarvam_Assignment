{
 "cells": [
  {
   "cell_type": "code",
   "execution_count": null,
   "metadata": {},
   "outputs": [],
   "source": []
  },
  {
   "cell_type": "code",
   "execution_count": 2,
   "metadata": {},
   "outputs": [
    {
     "name": "stdout",
     "output_type": "stream",
     "text": [
      "{\"translated_text\":\"यहाँ पाठ का एक सरलीकृत संस्करण हैः एक नीले और सफेद झंडे के साथ ट्रैक के साथ तेजी से दौड़ने वाली एक रेसिंग कार की तस्वीर।\"}\n"
     ]
    }
   ],
   "source": [
    "import requests\n",
    "\n",
    "url = \"https://api.sarvam.ai/translate\"\n",
    "\n",
    "payload = {\n",
    "    \"input\": \"a photography of a race car driving down a track a blue and white banner\",\n",
    "    \"source_language_code\": \"en-IN\",\n",
    "    \"target_language_code\": \"hi-IN\",\n",
    "    \"speaker_gender\": \"Male\",\n",
    "    \"mode\": \"formal\",\n",
    "    \"model\": \"mayura:v1\",\n",
    "    \"enable_preprocessing\": True\n",
    "}\n",
    "headers = {\"Content-Type\": \"application/json\", \"api-subscription-key\":\"a4d97b92-9fbd-4346-8870-178df79b1515\"}\n",
    "\n",
    "response = requests.request(\"POST\", url, json=payload, headers=headers)\n",
    "\n",
    "print(response.text)"
   ]
  },
  {
   "cell_type": "code",
   "execution_count": null,
   "metadata": {},
   "outputs": [],
   "source": []
  }
 ],
 "metadata": {
  "kernelspec": {
   "display_name": "piramal",
   "language": "python",
   "name": "python3"
  },
  "language_info": {
   "codemirror_mode": {
    "name": "ipython",
    "version": 3
   },
   "file_extension": ".py",
   "mimetype": "text/x-python",
   "name": "python",
   "nbconvert_exporter": "python",
   "pygments_lexer": "ipython3",
   "version": "3.12.7"
  }
 },
 "nbformat": 4,
 "nbformat_minor": 2
}
