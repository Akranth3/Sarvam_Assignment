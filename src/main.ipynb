{
 "cells": [
  {
   "cell_type": "code",
   "execution_count": null,
   "metadata": {},
   "outputs": [],
   "source": [
    "\n",
    "\n"
   ]
  },
  {
   "cell_type": "code",
   "execution_count": null,
   "metadata": {},
   "outputs": [
    {
     "name": "stderr",
     "output_type": "stream",
     "text": [
      "Using cache found in /Users/akranthreddy/.cache/torch/hub/ultralytics_yolov5_master\n"
     ]
    },
    {
     "name": "stdout",
     "output_type": "stream",
     "text": [
      "\u001b[31m\u001b[1mrequirements:\u001b[0m Ultralytics requirement ['pillow>=10.3.0'] not found, attempting AutoUpdate...\n",
      "Collecting pillow>=10.3.0\n",
      "  Downloading pillow-11.0.0-cp312-cp312-macosx_11_0_arm64.whl.metadata (9.1 kB)\n",
      "Downloading pillow-11.0.0-cp312-cp312-macosx_11_0_arm64.whl (3.0 MB)\n",
      "\u001b[2K   \u001b[90m━━━━━━━━━━━━━━━━━━━━━━━━━━━━━━━━━━━━━━━━\u001b[0m \u001b[32m3.0/3.0 MB\u001b[0m \u001b[31m9.8 MB/s\u001b[0m eta \u001b[36m0:00:00\u001b[0ma \u001b[36m0:00:01\u001b[0m\n",
      "\u001b[?25hInstalling collected packages: pillow\n",
      "  Attempting uninstall: pillow\n",
      "    Found existing installation: Pillow 10.1.0\n",
      "    Uninstalling Pillow-10.1.0:\n",
      "      Successfully uninstalled Pillow-10.1.0\n",
      "Successfully installed pillow-11.0.0\n",
      "\n",
      "\u001b[31m\u001b[1mrequirements:\u001b[0m AutoUpdate success ✅ 1.4s, installed 1 package: ['pillow>=10.3.0']\n",
      "\u001b[31m\u001b[1mrequirements:\u001b[0m ⚠️ \u001b[1mRestart runtime or rerun command for updates to take effect\u001b[0m\n",
      "\n"
     ]
    },
    {
     "name": "stderr",
     "output_type": "stream",
     "text": [
      "YOLOv5 🚀 2024-11-23 Python-3.12.7 torch-2.6.0.dev20241018 CPU\n",
      "\n",
      "Downloading https://github.com/ultralytics/yolov5/releases/download/v7.0/yolov5n.pt to yolov5n.pt...\n",
      "100%|██████████| 3.87M/3.87M [00:00<00:00, 10.8MB/s]\n",
      "\n",
      "Fusing layers... \n",
      "YOLOv5n summary: 213 layers, 1867405 parameters, 0 gradients, 4.5 GFLOPs\n",
      "Adding AutoShape... \n"
     ]
    }
   ],
   "source": []
  },
  {
   "cell_type": "code",
   "execution_count": null,
   "metadata": {},
   "outputs": [],
   "source": [
    "# 1. YOLOv5n (nano) - Smallest YOLO variant (~2MB)\n",
    "import torch\n",
    "import cv2\n",
    "\n",
    "def setup_object_detection():\n",
    "    # Load directly from pytorch hub\n",
    "    model = torch.hub.load('ultralytics/yolov5', 'yolov5n')  # nano model\n",
    "    return model\n",
    "model = setup_object_detection()\n",
    "def detect_objects(model, image_path):\n",
    "    # Read image\n",
    "    image = cv2.imread(image_path)\n",
    "    image_rgb = cv2.cvtColor(image, cv2.COLOR_BGR2RGB)\n",
    "    \n",
    "    # Detect objects\n",
    "    results = model(image_rgb)\n",
    "    \n",
    "    # Get detections\n",
    "    detections = results.pandas().xyxy[0]\n",
    "    \n",
    "    # Draw boxes on image (for visualization)\n",
    "    annotated_image = image.copy()\n",
    "    for idx, detection in detections.iterrows():\n",
    "        x1, y1, x2, y2 = int(detection['xmin']), int(detection['ymin']), int(detection['xmax']), int(detection['ymax'])\n",
    "        label = f\"{detection['name']} {detection['confidence']:.2f}\"\n",
    "        \n",
    "        # Draw box\n",
    "        cv2.rectangle(annotated_image, (x1, y1), (x2, y2), (0, 255, 0), 2)\n",
    "        # Add label\n",
    "        cv2.putText(annotated_image, label, (x1, y1-10), cv2.FONT_HERSHEY_SIMPLEX, 0.5, (0, 255, 0), 2)\n",
    "\n",
    "    return {\n",
    "        'detections': detections,\n",
    "        'annotated_image': annotated_image\n",
    "    }\n",
    "\n"
   ]
  },
  {
   "cell_type": "code",
   "execution_count": 8,
   "metadata": {},
   "outputs": [],
   "source": [
    "image = '../data/fe.jpg'"
   ]
  },
  {
   "cell_type": "code",
   "execution_count": 9,
   "metadata": {},
   "outputs": [
    {
     "name": "stderr",
     "output_type": "stream",
     "text": [
      "Using cache found in /Users/akranthreddy/.cache/torch/hub/ultralytics_yolov5_master\n",
      "YOLOv5 🚀 2024-11-23 Python-3.12.7 torch-2.6.0.dev20241018 CPU\n",
      "\n",
      "Fusing layers... \n",
      "YOLOv5n summary: 213 layers, 1867405 parameters, 0 gradients, 4.5 GFLOPs\n",
      "Adding AutoShape... \n"
     ]
    },
    {
     "name": "stdout",
     "output_type": "stream",
     "text": [
      "\n",
      "Detected Objects:\n",
      "          xmin         ymin         xmax         ymax  confidence  class  \\\n",
      "0  1397.224976  1234.306396  1509.704224  1412.127441    0.489036      0   \n",
      "1  1511.597534  1237.791016  1808.868530  1422.049194    0.314080      2   \n",
      "2  1215.098145  1252.623657  1449.645020  1357.115234    0.281370      2   \n",
      "\n",
      "     name  \n",
      "0  person  \n",
      "1     car  \n",
      "2     car  \n"
     ]
    },
    {
     "name": "stderr",
     "output_type": "stream",
     "text": [
      "/Users/akranthreddy/.cache/torch/hub/ultralytics_yolov5_master/models/common.py:892: FutureWarning: `torch.cuda.amp.autocast(args...)` is deprecated. Please use `torch.amp.autocast('cuda', args...)` instead.\n",
      "  with amp.autocast(autocast):\n"
     ]
    },
    {
     "data": {
      "text/plain": [
       "True"
      ]
     },
     "execution_count": 9,
     "metadata": {},
     "output_type": "execute_result"
    }
   ],
   "source": [
    "model = setup_object_detection()\n",
    "result = detect_objects(model, image)\n",
    "\n",
    "# Print detections\n",
    "print(\"\\nDetected Objects:\")\n",
    "print(result['detections'])\n",
    "\n",
    "# Save annotated image\n",
    "cv2.imwrite('annotated_image.jpg', result['annotated_image'])"
   ]
  },
  {
   "cell_type": "code",
   "execution_count": 12,
   "metadata": {},
   "outputs": [
    {
     "data": {
      "text/plain": [
       "dict_keys(['detections', 'annotated_image'])"
      ]
     },
     "execution_count": 12,
     "metadata": {},
     "output_type": "execute_result"
    }
   ],
   "source": [
    "result.keys()"
   ]
  },
  {
   "cell_type": "code",
   "execution_count": 13,
   "metadata": {},
   "outputs": [
    {
     "data": {
      "text/html": [
       "<div>\n",
       "<style scoped>\n",
       "    .dataframe tbody tr th:only-of-type {\n",
       "        vertical-align: middle;\n",
       "    }\n",
       "\n",
       "    .dataframe tbody tr th {\n",
       "        vertical-align: top;\n",
       "    }\n",
       "\n",
       "    .dataframe thead th {\n",
       "        text-align: right;\n",
       "    }\n",
       "</style>\n",
       "<table border=\"1\" class=\"dataframe\">\n",
       "  <thead>\n",
       "    <tr style=\"text-align: right;\">\n",
       "      <th></th>\n",
       "      <th>xmin</th>\n",
       "      <th>ymin</th>\n",
       "      <th>xmax</th>\n",
       "      <th>ymax</th>\n",
       "      <th>confidence</th>\n",
       "      <th>class</th>\n",
       "      <th>name</th>\n",
       "    </tr>\n",
       "  </thead>\n",
       "  <tbody>\n",
       "    <tr>\n",
       "      <th>0</th>\n",
       "      <td>1397.224976</td>\n",
       "      <td>1234.306396</td>\n",
       "      <td>1509.704224</td>\n",
       "      <td>1412.127441</td>\n",
       "      <td>0.489036</td>\n",
       "      <td>0</td>\n",
       "      <td>person</td>\n",
       "    </tr>\n",
       "    <tr>\n",
       "      <th>1</th>\n",
       "      <td>1511.597534</td>\n",
       "      <td>1237.791016</td>\n",
       "      <td>1808.868530</td>\n",
       "      <td>1422.049194</td>\n",
       "      <td>0.314080</td>\n",
       "      <td>2</td>\n",
       "      <td>car</td>\n",
       "    </tr>\n",
       "    <tr>\n",
       "      <th>2</th>\n",
       "      <td>1215.098145</td>\n",
       "      <td>1252.623657</td>\n",
       "      <td>1449.645020</td>\n",
       "      <td>1357.115234</td>\n",
       "      <td>0.281370</td>\n",
       "      <td>2</td>\n",
       "      <td>car</td>\n",
       "    </tr>\n",
       "  </tbody>\n",
       "</table>\n",
       "</div>"
      ],
      "text/plain": [
       "          xmin         ymin         xmax         ymax  confidence  class  \\\n",
       "0  1397.224976  1234.306396  1509.704224  1412.127441    0.489036      0   \n",
       "1  1511.597534  1237.791016  1808.868530  1422.049194    0.314080      2   \n",
       "2  1215.098145  1252.623657  1449.645020  1357.115234    0.281370      2   \n",
       "\n",
       "     name  \n",
       "0  person  \n",
       "1     car  \n",
       "2     car  "
      ]
     },
     "execution_count": 13,
     "metadata": {},
     "output_type": "execute_result"
    }
   ],
   "source": [
    "result['detections']"
   ]
  },
  {
   "cell_type": "code",
   "execution_count": 14,
   "metadata": {},
   "outputs": [
    {
     "data": {
      "text/plain": [
       "array([[[228, 210, 199],\n",
       "        [228, 210, 199],\n",
       "        [228, 210, 199],\n",
       "        ...,\n",
       "        [244, 234, 234],\n",
       "        [244, 234, 234],\n",
       "        [244, 234, 234]],\n",
       "\n",
       "       [[228, 210, 199],\n",
       "        [228, 210, 199],\n",
       "        [228, 210, 199],\n",
       "        ...,\n",
       "        [244, 234, 234],\n",
       "        [244, 234, 234],\n",
       "        [244, 234, 234]],\n",
       "\n",
       "       [[228, 210, 199],\n",
       "        [228, 210, 199],\n",
       "        [228, 210, 199],\n",
       "        ...,\n",
       "        [244, 234, 234],\n",
       "        [244, 234, 234],\n",
       "        [244, 234, 234]],\n",
       "\n",
       "       ...,\n",
       "\n",
       "       [[ 95,  70,  74],\n",
       "        [ 95,  70,  74],\n",
       "        [ 95,  70,  74],\n",
       "        ...,\n",
       "        [177, 191, 210],\n",
       "        [176, 190, 209],\n",
       "        [176, 190, 209]],\n",
       "\n",
       "       [[ 96,  69,  73],\n",
       "        [ 96,  69,  73],\n",
       "        [ 96,  69,  73],\n",
       "        ...,\n",
       "        [179, 193, 212],\n",
       "        [179, 193, 212],\n",
       "        [179, 193, 212]],\n",
       "\n",
       "       [[ 96,  69,  73],\n",
       "        [ 96,  69,  73],\n",
       "        [ 96,  69,  73],\n",
       "        ...,\n",
       "        [181, 195, 214],\n",
       "        [181, 195, 214],\n",
       "        [181, 195, 214]]], dtype=uint8)"
      ]
     },
     "execution_count": 14,
     "metadata": {},
     "output_type": "execute_result"
    }
   ],
   "source": [
    "result['annotated_image']"
   ]
  },
  {
   "cell_type": "code",
   "execution_count": null,
   "metadata": {},
   "outputs": [],
   "source": []
  }
 ],
 "metadata": {
  "kernelspec": {
   "display_name": "piramal",
   "language": "python",
   "name": "python3"
  },
  "language_info": {
   "codemirror_mode": {
    "name": "ipython",
    "version": 3
   },
   "file_extension": ".py",
   "mimetype": "text/x-python",
   "name": "python",
   "nbconvert_exporter": "python",
   "pygments_lexer": "ipython3",
   "version": "3.12.7"
  }
 },
 "nbformat": 4,
 "nbformat_minor": 2
}
